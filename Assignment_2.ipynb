{
  "nbformat": 4,
  "nbformat_minor": 0,
  "metadata": {
    "colab": {
      "provenance": []
    },
    "kernelspec": {
      "name": "python3",
      "display_name": "Python 3"
    },
    "language_info": {
      "name": "python"
    }
  },
  "cells": [
    {
      "cell_type": "code",
      "source": [
        "# 17th April 2024\n",
        "# CSC461 – Assignment3 – IDS – Graph Analysis\n",
        "# Muhammad Faizan\n",
        "# FA21-BSE-132\n",
        "# To draw a graph, show loops in it and the shortest path in it and the length of it"
      ],
      "metadata": {
        "id": "0TZWpHthr8NA"
      },
      "execution_count": null,
      "outputs": []
    },
    {
      "cell_type": "code",
      "source": [
        "import networkx as nx\n",
        "import matplotlib.pyplot as plt\n",
        "import random"
      ],
      "metadata": {
        "id": "rx3nKRFPxm2q"
      },
      "execution_count": null,
      "outputs": []
    },
    {
      "cell_type": "code",
      "source": [
        "adjacency_matrix = [\n",
        "    [0, 0, 1, 0, 1, 0, 1],\n",
        "    [0, 1, 0, 0, 0, 1, 0],\n",
        "    [1, 0, 0, 0, 0, 1, 1],\n",
        "    [0, 0, 0, 0, 1, 0, 0],\n",
        "    [1, 0, 0, 1, 0, 0, 0],\n",
        "    [0, 1, 1, 0, 0, 0, 1],\n",
        "    [1, 0, 1, 0, 0, 1, 0]\n",
        "]\n",
        "\n",
        "labels = {\n",
        "    0: 'a',\n",
        "    1: 'b',\n",
        "    2: 'c',\n",
        "    3: 'd',\n",
        "    4: 'e',\n",
        "    5: 'f',\n",
        "    6: 'g'\n",
        "}"
      ],
      "metadata": {
        "id": "4jQ2tHC_xx5d"
      },
      "execution_count": null,
      "outputs": []
    },
    {
      "cell_type": "markdown",
      "source": [
        "Question no. 01: Using the networkx library in Python, create an undirected graph described by the adjacency matrix shown below. Once the graph is constructed, draw it to see if there is a loop in the graph? If yes, at which point?"
      ],
      "metadata": {
        "id": "MhFtt_W0y8_E"
      }
    },
    {
      "cell_type": "code",
      "execution_count": null,
      "metadata": {
        "colab": {
          "base_uri": "https://localhost:8080/",
          "height": 516
        },
        "id": "cP1N6T2fmbm6",
        "outputId": "44ffec83-af96-4d16-9257-02974ebef74b"
      },
      "outputs": [
        {
          "output_type": "display_data",
          "data": {
            "text/plain": [
              "<Figure size 640x480 with 1 Axes>"
            ],
            "image/png": "[encoded data removed]"
          },
          "metadata": {}
        }
      ],
      "source": [
        "G = nx.Graph ()\n",
        "\n",
        "for i in range (len (adjacency_matrix)):\n",
        "    for j in range (len (adjacency_matrix [i])):\n",
        "        if adjacency_matrix [i][j] == 1:\n",
        "            G.add_edge (labels [i], labels [j])\n",
        "\n",
        "nx.draw (G, with_labels = True)"
      ]
    },
    {
      "cell_type": "code",
      "source": [
        "plt.show ()\n",
        "\n",
        "loops = list (nx.simple_cycles (G))\n",
        "\n",
        "if loops:\n",
        "    print (\"There is a loop in the graph at node(s):\", loops)\n",
        "else:\n",
        "    print (\"There is no loop in the graph.\")\n"
      ],
      "metadata": {
        "colab": {
          "base_uri": "https://localhost:8080/"
        },
        "id": "US4PYXjCx5sy",
        "outputId": "9aaa927a-1bf1-4732-de06-d64bb7cc3391"
      },
      "execution_count": null,
      "outputs": [
        {
          "output_type": "stream",
          "name": "stdout",
          "text": [
            "There is a loop in the graph at node(s): [['b'], ['a', 'c', 'f', 'g'], ['a', 'c', 'g'], ['f', 'c', 'g']]\n"
          ]
        }
      ]
    },
    {
      "cell_type": "markdown",
      "source": [
        "Question no. 02: Assign random weights to the edges in the graph created in Q1. Once the weights are assigned, run Dijkstra to find out shortest path between A and B. Print both shortest path and the length of the shortest path."
      ],
      "metadata": {
        "id": "4pn3tagGzBXf"
      }
    },
    {
      "cell_type": "code",
      "source": [
        "for edge in G.edges:\n",
        "    G.edges [edge]['weight'] = random.randint (1, 10)\n",
        "\n",
        "shortest_path = nx.dijkstra_path (G, 'a', 'b', weight='weight')\n",
        "shortest_path_length = nx.dijkstra_path_length (G, 'a', 'b', weight='weight')\n",
        "\n",
        "print (\"Shortest Path:\", shortest_path)\n",
        "print (\"Length of Shortest Path:\", shortest_path_length)"
      ],
      "metadata": {
        "colab": {
          "base_uri": "https://localhost:8080/"
        },
        "id": "dcAkzsiLsnox",
        "outputId": "dc7dc1f8-d8ed-4e87-90ea-fe0d7f3bec85"
      },
      "execution_count": null,
      "outputs": [
        {
          "output_type": "stream",
          "name": "stdout",
          "text": [
            "Shortest Path: ['a', 'c', 'g', 'f', 'b']\n",
            "Length of Shortest Path: 13\n"
          ]
        }
      ]
    }
  ]
}