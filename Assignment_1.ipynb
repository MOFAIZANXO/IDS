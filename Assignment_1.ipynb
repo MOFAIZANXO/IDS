{
  "nbformat": 4,
  "nbformat_minor": 0,
  "metadata": {
    "colab": {
      "provenance": []
    },
    "kernelspec": {
      "name": "python3",
      "display_name": "Python 3"
    },
    "language_info": {
      "name": "python"
    }
  },
  "cells": [
    {
      "cell_type": "markdown",
      "source": [
        "Question1:\n",
        "Write code for a web scraper in Python (preferably a Jupyter Notebook) to extract the ‘title’, ‘year’, ‘duration’,\n",
        "and ‘IMDB rating’ for all-time top 250 movies from the IMDB website (URL given below). Once you have\n",
        "the data you need, export it to a CSV file (tabular format).\n",
        "URL: https://www.imdb.com/chart/top/"
      ],
      "metadata": {
        "id": "zUND5V_3jR9M"
      }
    },
    {
      "cell_type": "code",
      "source": [
        "import requests\n",
        "import csv\n",
        "from bs4 import BeautifulSoup\n",
        "\n",
        "headers = {\n",
        "    'User-Agent': 'Mozilla/5.0 (Windows NT 10.0; Win64; x64) AppleWebKit/537.36 (KHTML, like Gecko) Chrome/58.0.3029.110 Safari/537.36'\n",
        "}\n",
        "\n",
        "response = requests.get('https://www.imdb.com/chart/top/', headers=headers)\n",
        "root = BeautifulSoup(response.content, 'html5lib')\n",
        "Div_spc = root.find_all('div', class_='sc-b0691f29-0 jbYPfh cli-children')\n",
        "\n",
        "\n",
        "with open('Question#1.csv', 'w', newline='', encoding='utf-8') as csvfile:\n",
        "\n",
        "    fieldnames = ['Title', 'Rating', 'Duration', 'Year']\n",
        "    csv_writer = csv.DictWriter(csvfile, fieldnames=fieldnames)\n",
        "    csv_writer.writeheader()\n",
        "\n",
        "    for i in Div_spc:\n",
        "        Title = i.find('h3', class_='ipc-title__text').text\n",
        "        year = i.find('span', class_='sc-b0691f29-8 ilsLEX cli-title-metadata-item').text\n",
        "        duration = i.find_all('span', class_='sc-b0691f29-8 ilsLEX cli-title-metadata-item')[1].text\n",
        "        rating = i.find('span', class_='ipc-rating-star ipc-rating-star--base ipc-rating-star--imdb ratingGroup--imdb-rating').text\n",
        "\n",
        "        csv_writer.writerow({'Title': Title, 'Rating': rating, 'Duration': duration, 'Year': year})"
      ],
      "metadata": {
        "id": "ZnojjHep_HBC"
      },
      "execution_count": null,
      "outputs": []
    },
    {
      "cell_type": "markdown",
      "source": [
        "Question2: Create a web scraper in Python (preferably a Jupyter Notebook) to fetch the ‘Mars Planet Profile’ data from the URL given below. You must save the data in an Excel format (tabular data).\n",
        "URL: https://space-facts.com/mars/"
      ],
      "metadata": {
        "id": "RnQX1AyS_869"
      }
    },
    {
      "cell_type": "code",
      "source": [
        "import requests\n",
        "import time\n",
        "import openpyxl\n",
        "from bs4 import BeautifulSoup\n",
        "\n",
        "headers = {\n",
        "    'User-Agent': 'Mozilla/5.0 (Windows NT 10.0; Win64; x64) AppleWebKit/537.36 (KHTML, like Gecko) Chrome/58.0.3029.110 Safari/537.36'\n",
        "}\n",
        "\n",
        "response1 = requests.get('https://space-facts.com/mars/', headers=headers)\n",
        "root1 = BeautifulSoup(response1.content, 'html5lib')\n",
        "\n",
        "marsPlanetProfile_workbook = openpyxl.Workbook ()\n",
        "marsPlanetProfile_worksheet = marsPlanetProfile_workbook.active\n",
        "\n",
        "data = root1.find('table', class_='tablepress tablepress-id-p-mars')\n",
        "rows = data.find_all('tr')\n",
        "\n",
        "marsPlanetProfile_worksheet.cell (row = 1, column = 1, value = \"Mars Planet Profile\")\n",
        "\n",
        "cell = 1\n",
        "\n",
        "for j in rows:\n",
        "    columns = j.find_all('td')\n",
        "    column_1 = columns[0].text.strip ()\n",
        "    column_2 = columns[1].text.strip ()\n",
        "\n",
        "    cell += 1\n",
        "\n",
        "    marsPlanetProfile_worksheet.cell (row = cell, column = 1, value = column_1)\n",
        "    marsPlanetProfile_worksheet.cell (row = cell, column = 2, value = column_2)\n",
        "\n",
        "    time.sleep (1)\n",
        "\n",
        "marsPlanetProfile_workbook.save (\"Mars_Planet_Profile.xlsx\")\n",
        "marsPlanetProfile_workbook.close ()"
      ],
      "metadata": {
        "id": "crqQDPF-BAEl"
      },
      "execution_count": null,
      "outputs": []
    },
    {
      "cell_type": "code",
      "source": [
        "from google.colab import drive\n",
        "drive.mount('/content/drive')"
      ],
      "metadata": {
        "id": "hRUFf2d1Qdkj"
      },
      "execution_count": null,
      "outputs": []
    }
  ]
}